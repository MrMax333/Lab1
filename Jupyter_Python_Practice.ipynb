{
 "cells": [
  {
   "cell_type": "markdown",
   "metadata": {},
   "source": [
    "# Python Examples"
   ]
  },
  {
   "cell_type": "markdown",
   "metadata": {},
   "source": [
    "### What is This Document?"
   ]
  },
  {
   "cell_type": "markdown",
   "metadata": {},
   "source": [
    "This document is a collection of sample Python examples with detailed explanations in comment form. It is intended as a quickstart to using Python in the Big Data class and as an assorted collection of sample code that will be useful for labs.It is *NOT* a detailed tutorial for learning Python. "
   ]
  },
  {
   "cell_type": "markdown",
   "metadata": {},
   "source": [
    "Have questions? For more details about Python, try these resources:\n",
    "* Python wiki, for full set of resources: https://wiki.python.org/moin/\n",
    "* Long list of Python tutorials: https://wiki.python.org/moin/BeginnersGuide/NonProgrammers\n",
    "* Most interesting tutorials (I've not gone through all of them so feedback welcome)\n",
    "    * Free online book \"A Byte of Python\": https://python.swaroopch.com\n",
    "    * Intro to Python for Data Scientists: https://www.datacamp.com/courses/intro-to-python-for-data-science\n",
    "    * Curated list of turorials: http://docs.python-guide.org/en/latest/intro/learning/\n",
    "    \n",
    "* Learn more about Markdown: https://daringfireball.net/projects/markdown/"
   ]
  },
  {
   "cell_type": "markdown",
   "metadata": {},
   "source": [
    "## Printing examples"
   ]
  },
  {
   "cell_type": "markdown",
   "metadata": {},
   "source": [
    "Some examples showing how to output stuff"
   ]
  },
  {
   "cell_type": "code",
   "execution_count": 1,
   "metadata": {},
   "outputs": [
    {
     "name": "stdout",
     "output_type": "stream",
     "text": [
      "hello Tracey\n"
     ]
    }
   ],
   "source": [
    "# basic way to print a string (what's a string??). The characters go inside the '' (called delimiters)\n",
    "print ('hello Tracey')"
   ]
  },
  {
   "cell_type": "code",
   "execution_count": 2,
   "metadata": {},
   "outputs": [
    {
     "name": "stdout",
     "output_type": "stream",
     "text": [
      "2\n"
     ]
    }
   ],
   "source": [
    "# basic way to print just a number or a numerical calculation\n",
    "print (1+1)"
   ]
  },
  {
   "cell_type": "code",
   "execution_count": 3,
   "metadata": {},
   "outputs": [
    {
     "name": "stdout",
     "output_type": "stream",
     "text": [
      "1 + 1 =  2\n",
      "Average of 1, 2, 10 is: 4.333333333333333\n"
     ]
    }
   ],
   "source": [
    "#basic way to mix strings and numbers\n",
    "print (\"1 + 1 = \", 1+1)\n",
    "print (\"Average of 1, 2, 10 is:\", (1+2+10)/3)\n",
    "#question: how to get round the number?"
   ]
  },
  {
   "cell_type": "code",
   "execution_count": 4,
   "metadata": {},
   "outputs": [
    {
     "name": "stdout",
     "output_type": "stream",
     "text": [
      "Average of 1, 2, 10 is: 4.33\n"
     ]
    }
   ],
   "source": [
    "print (\"Average of 1, 2, 10 is: %.2f\" % ((1+2+10)/3))"
   ]
  },
  {
   "cell_type": "markdown",
   "metadata": {},
   "source": [
    "## Variable and types"
   ]
  },
  {
   "cell_type": "markdown",
   "metadata": {},
   "source": [
    "A very brief introduction to Python variables"
   ]
  },
  {
   "cell_type": "code",
   "execution_count": 5,
   "metadata": {},
   "outputs": [
    {
     "name": "stdout",
     "output_type": "stream",
     "text": [
      "Average of a, b, and c is: 20.6667\n"
     ]
    }
   ],
   "source": [
    "#variables are a way to hold and store values\n",
    "a=10\n",
    "b=32\n",
    "c=20\n",
    "print(\"Average of a, b, and c is: %.4f\" % ((a+b+c)/3))"
   ]
  },
  {
   "cell_type": "code",
   "execution_count": 6,
   "metadata": {},
   "outputs": [
    {
     "name": "stdout",
     "output_type": "stream",
     "text": [
      "10 Tracey True\n"
     ]
    }
   ],
   "source": [
    "#variables can be numerical or characters or boolean\n",
    "nbr=10\n",
    "name=\"Tracey\"\n",
    "truth=True\n",
    "print(nbr, name, truth)"
   ]
  },
  {
   "cell_type": "code",
   "execution_count": 7,
   "metadata": {},
   "outputs": [
    {
     "name": "stdout",
     "output_type": "stream",
     "text": [
      "Nbr type is  <class 'int'>\n",
      "Name type is  <class 'str'>\n",
      "Truth type is  <class 'bool'>\n",
      "Non integet type is  <class 'float'>\n"
     ]
    }
   ],
   "source": [
    "#variables have types\n",
    "#types help determine the operations you can use on a variable\n",
    "#operations are called methods\n",
    "print(\"Nbr type is \", type(nbr))\n",
    "print(\"Name type is \", type(name))\n",
    "print(\"Truth type is \", type(truth))\n",
    "print(\"Non integet type is \", type(3.1415927))"
   ]
  },
  {
   "cell_type": "code",
   "execution_count": 8,
   "metadata": {},
   "outputs": [
    {
     "name": "stdout",
     "output_type": "stream",
     "text": [
      "20 0 100 1.0 10000000000 -10 3\n",
      "TraceySconyers\n"
     ]
    }
   ],
   "source": [
    "#you can perform operations on variables\n",
    "print(nbr+nbr, nbr-nbr, nbr*nbr, nbr/nbr, nbr**nbr, -nbr, nbr//3)\n",
    "\n",
    "print(\"Tracey\"  + \"Sconyers\")"
   ]
  },
  {
   "cell_type": "markdown",
   "metadata": {},
   "source": [
    "## Lists  "
   ]
  },
  {
   "cell_type": "markdown",
   "metadata": {
    "collapsed": true
   },
   "source": [
    "If you want to store more than one item, a list is the best way to go. \n",
    "These are somewhat similar to arrays in other languages. The list is itself a variable, and every item in the list is also a variable, but has special name. \n",
    "\n",
    "For example, a_list = ['a', 'b', 'c'] creates a list with three characters in it. \n",
    "\n",
    "Each item in the list has its own variable name: a_list[0] holds the value 'a', a_list[1] holds the value 'b', and a_list[2] holds the value 'c'. Notice that the number in the brackets[] start at 0 and end at 1 less than the length of the list.\n"
   ]
  },
  {
   "cell_type": "code",
   "execution_count": 23,
   "metadata": {},
   "outputs": [
    {
     "name": "stdout",
     "output_type": "stream",
     "text": [
      "['apple', 'orange', 'banana']\n",
      "[]\n"
     ]
    }
   ],
   "source": [
    "#Python lets you make a list of things\n",
    "#other languages sometimes call these arrays (there are subtle differences but we don't care right now)\n",
    "favFruits = [\"apple\", \"orange\", \"banana\"]\n",
    "favVeggies = [] #this is an empty list. Its a list type, but has nothing in it\n",
    "\n",
    "#can print everythig in the list just by using its name\n",
    "print(favFruits)\n",
    "print(favVeggies)"
   ]
  },
  {
   "cell_type": "code",
   "execution_count": 24,
   "metadata": {},
   "outputs": [
    {
     "name": "stdout",
     "output_type": "stream",
     "text": [
      "orange\n"
     ]
    }
   ],
   "source": [
    "#like most coding languages, lists start at nbr 0, and go to n-1\n",
    "#notice that the thing printed is NOT in brackets. Its just a variable and not a list. \n",
    "# The list is the entire thing - its made up of objects and each object has its own type\n",
    "print(favFruits[1])"
   ]
  },
  {
   "cell_type": "code",
   "execution_count": 11,
   "metadata": {},
   "outputs": [
    {
     "name": "stdout",
     "output_type": "stream",
     "text": [
      "['petunia', 42, False]\n"
     ]
    }
   ],
   "source": [
    "# a list can have different types\n",
    "mixItUp = [\"petunia\", 42, False]\n",
    "print(mixItUp)"
   ]
  },
  {
   "cell_type": "code",
   "execution_count": 12,
   "metadata": {},
   "outputs": [
    {
     "name": "stdout",
     "output_type": "stream",
     "text": [
      "['apple', 'orange', 'banana', 'cherry']\n"
     ]
    }
   ],
   "source": [
    "# you can add things to lists\n",
    "favFruits.append(\"cherry\")\n",
    "print(favFruits)\n",
    "## how to select range- can I do it without using a loop?\n",
    "#print(favFruits[0..1])"
   ]
  },
  {
   "cell_type": "markdown",
   "metadata": {
    "collapsed": true
   },
   "source": [
    "## Min, Max, Avg"
   ]
  },
  {
   "cell_type": "code",
   "execution_count": 13,
   "metadata": {},
   "outputs": [
    {
     "name": "stdout",
     "output_type": "stream",
     "text": [
      "Nbr of values is  10\n",
      "Total sum of values is  2532\n",
      "Arithmetic mean of values is  253.2\n"
     ]
    }
   ],
   "source": [
    "#if you have a list of numbers you can calculate the min, max, and average\n",
    "someNbrs = [10, 24,43,66,87,105,326,526,601,744]\n",
    "count = len(someNbrs)\n",
    "print(\"Nbr of values is \", count)\n",
    "total = sum(someNbrs)\n",
    "print(\"Total sum of values is \", total)\n",
    "mean=total/count\n",
    "print(\"Arithmetic mean of values is \", mean)\n"
   ]
  },
  {
   "cell_type": "code",
   "execution_count": 14,
   "metadata": {},
   "outputs": [
    {
     "name": "stdout",
     "output_type": "stream",
     "text": [
      "Range of values is  10  to  744\n"
     ]
    }
   ],
   "source": [
    "# min and max is easier\n",
    "minNbr = min(someNbrs)\n",
    "maxNbr = max(someNbrs)\n",
    "print(\"Range of values is \", minNbr, \" to \", maxNbr)"
   ]
  },
  {
   "cell_type": "code",
   "execution_count": 15,
   "metadata": {
    "collapsed": true
   },
   "outputs": [],
   "source": [
    "#is there an average method?\n",
    "#print(avg(someNbrs))  #its not this one. Maybe there is a package somewhere with math and stats functions?"
   ]
  },
  {
   "cell_type": "code",
   "execution_count": 16,
   "metadata": {},
   "outputs": [
    {
     "name": "stdout",
     "output_type": "stream",
     "text": [
      "10\n",
      "34\n",
      "77\n",
      "143\n",
      "230\n",
      "335\n",
      "661\n",
      "1187\n",
      "1788\n",
      "2532\n",
      "Total:  2532 Nbr items:  10 Average:  253.2\n"
     ]
    }
   ],
   "source": [
    "# doing it \"old school\"\n",
    "# need to *loop* through the list and add all the values\n",
    "# then divide by the number of items in the list\n",
    "\n",
    "total = 0; #variable to hold our total\n",
    "nbrListItems = len(someNbrs); # len is the length of the list, or the number if things in the list\n",
    "\n",
    "# main loop; ii is loop counter, \n",
    "# range is part of the list we want to loop through - in this case, the entire length of the list\n",
    "for ii in range(nbrListItems):\n",
    "    # in python, you need to indent spaces for the code you want to loop over\n",
    "    total = total + someNbrs[ii]; #add the current list item at ii to the running total\n",
    "    print (total);\n",
    "avg = total/nbrListItems;\n",
    "print(\"Total: \", total, \"Nbr items: \", len(someNbrs), \"Average: \", avg)"
   ]
  },
  {
   "cell_type": "code",
   "execution_count": 17,
   "metadata": {},
   "outputs": [
    {
     "name": "stdout",
     "output_type": "stream",
     "text": [
      "Nbr List items 10 Halfway point:  5 Median:  96.0\n"
     ]
    }
   ],
   "source": [
    "#what about median? Need a list in sorted order\n",
    "# there are some subtleties to using methods to sort in python.\n",
    "# the .sort method will rearrange the existing list in sorted order\n",
    "# other ways to sort create a copy of the list in sorted order and preserve the original list\n",
    "\n",
    "someNbrs.sort();  # sort the list. It's that easy\n",
    "\n",
    "import math;\n",
    "halfwayPoint = math.floor(nbrListItems/2);\n",
    "\n",
    "#to determine if a number is even or odd, take the modulo of 2 and check remainder; \n",
    "# 0 remainder means even\n",
    "if (nbrListItems % 2) == 0: \n",
    "    median = (someNbrs[halfwayPoint] + someNbrs[halfwayPoint-1])/2;\n",
    "else: # the halfway point is an odd number, so the median is the middle number\n",
    "    median = someNbrs[halfwayPoint];\n",
    "    \n",
    "print(\"Nbr List items\", nbrListItems, \"Halfway point: \", halfwayPoint, \"Median: \", median);"
   ]
  },
  {
   "cell_type": "markdown",
   "metadata": {
    "collapsed": true
   },
   "source": [
    "## Reading File Data"
   ]
  },
  {
   "cell_type": "markdown",
   "metadata": {
    "collapsed": true
   },
   "source": [
    "* csv stand for comma separated values.  \n",
    "* csv file - simple text document with data in text form (characters and not binary)\n",
    "           where the fields (data columns) are separated by commas\n",
    "*csv files are a common way to store datasets \n",
    "\n",
    "* Standard algorithm in python is to open a csv file and read the data into a list structure\n",
    "      * open command sets a 'pointer' to the beginning of file\n",
    "      * the pointer moves through the file as the values are 'read'\n",
    "      *  can store each value as its read in a list\n",
    "      * keep reading the file until no more data (the 'pointer' reaches the end of file)\n",
    "      * usually close the file after you are done\n",
    "      * once you've read the data and put it into a list, you can then write code to process or analyze it"
   ]
  },
  {
   "cell_type": "code",
   "execution_count": 19,
   "metadata": {
    "collapsed": true
   },
   "outputs": [],
   "source": [
    "#File Reading\n",
    "#open the file for reading\n",
    "# The trickiest part here is getting the right location for the file\n",
    "# file name is *relative* to the Anaconda folder system\n",
    "# this means the FreBridge.csv is in a folder called FremontBridge\n",
    "# in the Anaconda file system\n",
    "# you can organize your data files however you wish, just make sure this\n",
    "# string matches your folder and file organization\n",
    "data_file = open(\"FremontBridge/FreBridge1.csv\", \"r\");\n",
    "#create an empty list to store the data\n",
    "bridge_data = [];\n",
    "#put all lines from the file into a list\n",
    "for ii in data_file:\n",
    "    bridge_data.append(ii);\n",
    "    \n",
    "#close the file. It's the courteous and clean thing to do\n",
    "data_file.close();\n",
    "\n"
   ]
  },
  {
   "cell_type": "markdown",
   "metadata": {},
   "source": [
    "## Processing File Data"
   ]
  },
  {
   "cell_type": "code",
   "execution_count": 20,
   "metadata": {
    "scrolled": true
   },
   "outputs": [
    {
     "name": "stdout",
     "output_type": "stream",
     "text": [
      "[1393, 1745, 1532, 1425, 826, 466, 1107, 1733, 2070, 1961, 1863, 1178, 648, 1615, 1795, 1782, 1160, 1461, 981, 712, 1824, 2190, 2270, 2086, 1314, 899, 895, 1907, 2097, 1992]\n",
      "[1483, 1867, 1627, 1512, 770, 425, 898, 1932, 2243, 2069, 1898, 1013, 679, 1669, 1862, 1949, 1293, 1539, 853, 591, 1981, 2361, 2292, 2235, 1370, 869, 676, 1955, 2239, 2063]\n"
     ]
    }
   ],
   "source": [
    "#Data Processing - Clean up and split the data into two lists, east and east\n",
    "#This allows for further statistical analysis on cleaned up lists\n",
    "\n",
    "#remove the first element (column header)\n",
    "del bridge_data[0];\n",
    "#create empty lists for westbound and eastbound bikes\n",
    "west = [];\n",
    "east = [];    \n",
    "for jj in range(len(bridge_data)):\n",
    "    #make into a list of lists of just numbers\n",
    "    bridge_data[jj] = bridge_data[jj].split(\",\");\n",
    "    #add data to specific lists for west and east\n",
    "    west.append(int(bridge_data[jj][1]));\n",
    "    east.append(int(bridge_data[jj][2]));\n",
    "\n",
    "print(west);\n",
    "print(east)"
   ]
  },
  {
   "cell_type": "markdown",
   "metadata": {
    "collapsed": true
   },
   "source": [
    "# Analyzing Bridge Data\n",
    "\n",
    "Now you have the data in two lists - east and west. \n",
    "\n",
    "IN the meantime - be thinking about what sorts of questions you might ask, what other things you might need to do to prepare your datasets, and what sorts of analysis do you want to do on it.\n",
    "\n",
    "* Look for inspiration at: http://www.seattle.gov/transportation/bikecounter_fremont.htm#detail\n",
    "* More details about bike counters:\n",
    " http://www.seattle.gov/transportation/bikecounter.htm\n",
    "* Dataset with daily bike counts:\n",
    " https://data.seattle.gov/Transportation/Fremont-Bridge-Daily-Bicycle-Counts/eytj-7qg9/data\n",
    "* Find more city data at:  https://data.seattle.gov"
   ]
  },
  {
   "cell_type": "markdown",
   "metadata": {
    "collapsed": true
   },
   "source": [
    "# Daily Traffic 09-12-17\n",
    "3.  If you feel comfortable reading and understanding the code from my notebook, see if you can figure out how to do the following. Do this work in your practice Jupyter notebook.\n",
    "\n",
    "a.\tCreate a new list called daily_traffic with 30 numbers of your choosing. Then find the mean, median, and mode of the list. You’ll need multiple variables.\n",
    "\n",
    "b.\tCreate a new empty list called mon. Using the daily_traffic list, copy every 7th value from that list to the mon list You can start copying any value from daily_traffic[0] to daily_traffic[6] but copy every 7th one after that.\n",
    "\n",
    "c.\tCreate 6 more lists called tue, wed, thu, fri, sat, sun and do the same (but use different starting points)\n",
    "\n",
    "d.\tFind the mean, median, and mode of each of the 7 lists."
   ]
  },
  {
   "cell_type": "code",
   "execution_count": 59,
   "metadata": {
    "scrolled": true
   },
   "outputs": [
    {
     "name": "stdout",
     "output_type": "stream",
     "text": [
      "daily_traffic [50, 44, 71, 27, 92, 7, 39, 68, 62, 52, 32, 0, 3, 64, 20, 97, 41, 61, 92, 31, 39, 75, 38, 27, 53, 70, 78, 80, 36, 54]\n",
      "week [[0, 0, 0, 0, 0], [0, 0, 0, 0, 0], [0, 0, 0, 0, 0], [0, 0, 0, 0, 0], [0, 0, 0, 0, 0], [0, 0, 0, 0, 0], [0, 0, 0, 0, 0]]\n",
      "0\n",
      "j= 0\n",
      "x= 0\n",
      "[[50, 0, 0, 0, 0], [0, 0, 0, 0, 0], [0, 0, 0, 0, 0], [0, 0, 0, 0, 0], [0, 0, 0, 0, 0], [0, 0, 0, 0, 0], [0, 0, 0, 0, 0]]\n",
      "1\n",
      "j= 1\n",
      "x= 1\n",
      "[[50, 0, 0, 0, 0], [44, 0, 0, 0, 0], [0, 0, 0, 0, 0], [0, 0, 0, 0, 0], [0, 0, 0, 0, 0], [0, 0, 0, 0, 0], [0, 0, 0, 0, 0]]\n",
      "2\n",
      "j= 2\n",
      "x= 2\n",
      "[[50, 0, 0, 0, 0], [44, 0, 0, 0, 0], [71, 0, 0, 0, 0], [0, 0, 0, 0, 0], [0, 0, 0, 0, 0], [0, 0, 0, 0, 0], [0, 0, 0, 0, 0]]\n",
      "3\n",
      "j= 3\n",
      "x= 3\n",
      "[[50, 0, 0, 0, 0], [44, 0, 0, 0, 0], [71, 0, 0, 0, 0], [27, 0, 0, 0, 0], [0, 0, 0, 0, 0], [0, 0, 0, 0, 0], [0, 0, 0, 0, 0]]\n",
      "4\n",
      "j= 4\n",
      "x= 4\n",
      "[[50, 0, 0, 0, 0], [44, 0, 0, 0, 0], [71, 0, 0, 0, 0], [27, 0, 0, 0, 0], [92, 0, 0, 0, 0], [0, 0, 0, 0, 0], [0, 0, 0, 0, 0]]\n",
      "5\n",
      "j= 5\n",
      "x= 5\n",
      "[[50, 0, 0, 0, 0], [44, 0, 0, 0, 0], [71, 0, 0, 0, 0], [27, 0, 0, 0, 0], [92, 0, 0, 0, 0], [7, 0, 0, 0, 0], [0, 0, 0, 0, 0]]\n",
      "6\n",
      "j= 6\n",
      "x= 6\n",
      "[[50, 0, 0, 0, 0], [44, 0, 0, 0, 0], [71, 0, 0, 0, 0], [27, 0, 0, 0, 0], [92, 0, 0, 0, 0], [7, 0, 0, 0, 0], [39, 0, 0, 0, 0]]\n",
      "0\n",
      "j= 7\n",
      "x= 0\n",
      "[[50, 68, 0, 0, 0], [44, 0, 0, 0, 0], [71, 0, 0, 0, 0], [27, 0, 0, 0, 0], [92, 0, 0, 0, 0], [7, 0, 0, 0, 0], [39, 0, 0, 0, 0]]\n",
      "1\n",
      "j= 8\n",
      "x= 1\n",
      "[[50, 68, 0, 0, 0], [44, 62, 0, 0, 0], [71, 0, 0, 0, 0], [27, 0, 0, 0, 0], [92, 0, 0, 0, 0], [7, 0, 0, 0, 0], [39, 0, 0, 0, 0]]\n",
      "2\n",
      "j= 9\n",
      "x= 2\n",
      "[[50, 68, 0, 0, 0], [44, 62, 0, 0, 0], [71, 52, 0, 0, 0], [27, 0, 0, 0, 0], [92, 0, 0, 0, 0], [7, 0, 0, 0, 0], [39, 0, 0, 0, 0]]\n",
      "3\n",
      "j= 10\n",
      "x= 3\n",
      "[[50, 68, 0, 0, 0], [44, 62, 0, 0, 0], [71, 52, 0, 0, 0], [27, 32, 0, 0, 0], [92, 0, 0, 0, 0], [7, 0, 0, 0, 0], [39, 0, 0, 0, 0]]\n",
      "4\n",
      "j= 11\n",
      "x= 4\n",
      "[[50, 68, 0, 0, 0], [44, 62, 0, 0, 0], [71, 52, 0, 0, 0], [27, 32, 0, 0, 0], [92, 0, 0, 0, 0], [7, 0, 0, 0, 0], [39, 0, 0, 0, 0]]\n",
      "5\n",
      "j= 12\n",
      "x= 5\n",
      "[[50, 68, 0, 0, 0], [44, 62, 0, 0, 0], [71, 52, 0, 0, 0], [27, 32, 0, 0, 0], [92, 0, 0, 0, 0], [7, 3, 0, 0, 0], [39, 0, 0, 0, 0]]\n",
      "6\n",
      "j= 13\n",
      "x= 6\n",
      "[[50, 68, 0, 0, 0], [44, 62, 0, 0, 0], [71, 52, 0, 0, 0], [27, 32, 0, 0, 0], [92, 0, 0, 0, 0], [7, 3, 0, 0, 0], [39, 64, 0, 0, 0]]\n",
      "0\n",
      "j= 14\n",
      "x= 0\n",
      "[[50, 68, 20, 0, 0], [44, 62, 0, 0, 0], [71, 52, 0, 0, 0], [27, 32, 0, 0, 0], [92, 0, 0, 0, 0], [7, 3, 0, 0, 0], [39, 64, 0, 0, 0]]\n",
      "1\n",
      "j= 15\n",
      "x= 1\n",
      "[[50, 68, 20, 0, 0], [44, 62, 97, 0, 0], [71, 52, 0, 0, 0], [27, 32, 0, 0, 0], [92, 0, 0, 0, 0], [7, 3, 0, 0, 0], [39, 64, 0, 0, 0]]\n",
      "2\n",
      "j= 16\n",
      "x= 2\n",
      "[[50, 68, 20, 0, 0], [44, 62, 97, 0, 0], [71, 52, 41, 0, 0], [27, 32, 0, 0, 0], [92, 0, 0, 0, 0], [7, 3, 0, 0, 0], [39, 64, 0, 0, 0]]\n",
      "3\n",
      "j= 17\n",
      "x= 3\n",
      "[[50, 68, 20, 0, 0], [44, 62, 97, 0, 0], [71, 52, 41, 0, 0], [27, 32, 61, 0, 0], [92, 0, 0, 0, 0], [7, 3, 0, 0, 0], [39, 64, 0, 0, 0]]\n",
      "4\n",
      "j= 18\n",
      "x= 4\n",
      "[[50, 68, 20, 0, 0], [44, 62, 97, 0, 0], [71, 52, 41, 0, 0], [27, 32, 61, 0, 0], [92, 0, 92, 0, 0], [7, 3, 0, 0, 0], [39, 64, 0, 0, 0]]\n",
      "5\n",
      "j= 19\n",
      "x= 5\n",
      "[[50, 68, 20, 0, 0], [44, 62, 97, 0, 0], [71, 52, 41, 0, 0], [27, 32, 61, 0, 0], [92, 0, 92, 0, 0], [7, 3, 31, 0, 0], [39, 64, 0, 0, 0]]\n",
      "6\n",
      "j= 20\n",
      "x= 6\n",
      "[[50, 68, 20, 0, 0], [44, 62, 97, 0, 0], [71, 52, 41, 0, 0], [27, 32, 61, 0, 0], [92, 0, 92, 0, 0], [7, 3, 31, 0, 0], [39, 64, 39, 0, 0]]\n",
      "0\n",
      "j= 21\n",
      "x= 0\n",
      "[[50, 68, 20, 75, 0], [44, 62, 97, 0, 0], [71, 52, 41, 0, 0], [27, 32, 61, 0, 0], [92, 0, 92, 0, 0], [7, 3, 31, 0, 0], [39, 64, 39, 0, 0]]\n",
      "1\n",
      "j= 22\n",
      "x= 1\n",
      "[[50, 68, 20, 75, 0], [44, 62, 97, 38, 0], [71, 52, 41, 0, 0], [27, 32, 61, 0, 0], [92, 0, 92, 0, 0], [7, 3, 31, 0, 0], [39, 64, 39, 0, 0]]\n",
      "2\n",
      "j= 23\n",
      "x= 2\n",
      "[[50, 68, 20, 75, 0], [44, 62, 97, 38, 0], [71, 52, 41, 27, 0], [27, 32, 61, 0, 0], [92, 0, 92, 0, 0], [7, 3, 31, 0, 0], [39, 64, 39, 0, 0]]\n",
      "3\n",
      "j= 24\n",
      "x= 3\n",
      "[[50, 68, 20, 75, 0], [44, 62, 97, 38, 0], [71, 52, 41, 27, 0], [27, 32, 61, 53, 0], [92, 0, 92, 0, 0], [7, 3, 31, 0, 0], [39, 64, 39, 0, 0]]\n",
      "4\n",
      "j= 25\n",
      "x= 4\n",
      "[[50, 68, 20, 75, 0], [44, 62, 97, 38, 0], [71, 52, 41, 27, 0], [27, 32, 61, 53, 0], [92, 0, 92, 70, 0], [7, 3, 31, 0, 0], [39, 64, 39, 0, 0]]\n",
      "5\n",
      "j= 26\n",
      "x= 5\n",
      "[[50, 68, 20, 75, 0], [44, 62, 97, 38, 0], [71, 52, 41, 27, 0], [27, 32, 61, 53, 0], [92, 0, 92, 70, 0], [7, 3, 31, 78, 0], [39, 64, 39, 0, 0]]\n",
      "6\n",
      "j= 27\n",
      "x= 6\n",
      "[[50, 68, 20, 75, 0], [44, 62, 97, 38, 0], [71, 52, 41, 27, 0], [27, 32, 61, 53, 0], [92, 0, 92, 70, 0], [7, 3, 31, 78, 0], [39, 64, 39, 80, 0]]\n",
      "0\n",
      "j= 28\n",
      "x= 0\n",
      "[[50, 68, 20, 75, 36], [44, 62, 97, 38, 0], [71, 52, 41, 27, 0], [27, 32, 61, 53, 0], [92, 0, 92, 70, 0], [7, 3, 31, 78, 0], [39, 64, 39, 80, 0]]\n",
      "1\n",
      "j= 29\n",
      "x= 1\n",
      "[[50, 68, 20, 75, 36], [44, 62, 97, 38, 54], [71, 52, 41, 27, 0], [27, 32, 61, 53, 0], [92, 0, 92, 70, 0], [7, 3, 31, 78, 0], [39, 64, 39, 80, 0]]\n",
      "\n",
      "[50, 44, 71, 27, 92, 7, 39, 68, 62, 52, 32, 0, 3, 64, 20, 97, 41, 61, 92, 31, 39, 75, 38, 27, 53, 70, 78, 80, 36, 54]\n",
      "[50, 68, 20, 75, 36]\n"
     ]
    }
   ],
   "source": [
    "daily_traffic = [];\n",
    "import random\n",
    "import math\n",
    "for i in range(0,30):\n",
    "    daily_traffic.append(random.randrange(0, 100))\n",
    "    #daily_traffic[i] = random.randrange(0, 100)\n",
    "    #print(i)\n",
    "    #print(daily_traffic)\n",
    "\n",
    "print(\"daily_traffic\",daily_traffic)\n",
    "\n",
    "mon = [0,0,0,0,0];\n",
    "tue = [0,0,0,0,0];\n",
    "wed = [0,0,0,0,0];\n",
    "thu = [0,0,0,0,0];\n",
    "fri = [0,0,0,0,0];\n",
    "sat = [0,0,0,0,0];\n",
    "sun = [0,0,0,0,0];\n",
    "week = [mon,tue,wed,thu,fri,sat,sun];\n",
    "\n",
    "print(\"week\",week)\n",
    "counter=-1\n",
    "for j in range(len(daily_traffic)):\n",
    "    x=(j%7)\n",
    "    if(j%7==0):\n",
    "        counter=counter+1\n",
    "    print(x)\n",
    "    #if(x==0):\n",
    "    #    mon.append(daily_traffic[j])\n",
    "    #elif(j%7==0):\n",
    "    #    x=x\n",
    "    week[x][counter] = daily_traffic[j]   \n",
    "    print(\"j=\",j)\n",
    "    print(\"x=\",x)\n",
    "    print(week)\n",
    "    \n",
    "print()        \n",
    "print(daily_traffic)\n",
    "print(mon)\n",
    "\n",
    "    "
   ]
  },
  {
   "cell_type": "code",
   "execution_count": 2,
   "metadata": {},
   "outputs": [
    {
     "name": "stdout",
     "output_type": "stream",
     "text": [
      "daily_traffic [13, 93, 35, 29, 86, 68, 18, 58, 52, 45, 92, 57, 38, 57, 16, 12, 56, 37, 37, 66, 45, 94, 78, 78, 66, 54, 67, 32, 14, 13]\n",
      "week [[41, 62, 76, 95, 80], [27, 19, 32, 37, 38], [24, 72, 71, 46], [7, 58, 88, 48], [2, 73, 34, 42], [82, 66, 68, 10], [17, 32, 97, 1]]\n",
      "\n",
      "[13, 93, 35, 29, 86, 68, 18, 58, 52, 45, 92, 57, 38, 57, 16, 12, 56, 37, 37, 66, 45, 94, 78, 78, 66, 54, 67, 32, 14, 13]\n",
      "[13, 58, 16, 94, 14]\n",
      "[93, 52, 12, 78, 13]\n",
      "[35, 45, 56, 78]\n",
      "[29, 92, 37, 66]\n",
      "[86, 57, 37, 54]\n",
      "[68, 38, 66, 67]\n",
      "[18, 57, 45, 32]\n"
     ]
    }
   ],
   "source": [
    "## daily traffic the easy way\n",
    "daily_traffic = [];\n",
    "import random\n",
    "import math\n",
    "for i in range(0,30):\n",
    "    daily_traffic.append(random.randrange(0, 100))\n",
    "    #daily_traffic[i] = random.randrange(0, 100)\n",
    "    #print(i)\n",
    "    #print(daily_traffic)\n",
    "\n",
    "print(\"daily_traffic\",daily_traffic)\n",
    "\n",
    "mon = [];\n",
    "tue = [];\n",
    "wed = [];\n",
    "thu = [];\n",
    "fri = [];\n",
    "sat = [];\n",
    "sun = [];\n",
    "#week = [mon,tue,wed,thu,fri,sat,sun];\n",
    "\n",
    "print(\"week\",week)\n",
    "for j in range(len(daily_traffic)):\n",
    "    x=(j%7)\n",
    "    \n",
    "    if(x==0):\n",
    "        mon.append(daily_traffic[j])\n",
    "    elif(x==1):\n",
    "        tue.append(daily_traffic[j])\n",
    "    elif(x==2):\n",
    "        wed.append(daily_traffic[j])\n",
    "    elif(x==3):\n",
    "        thu.append(daily_traffic[j])\n",
    "    elif(x==4):\n",
    "        fri.append(daily_traffic[j])\n",
    "    elif(x==5):\n",
    "        sat.append(daily_traffic[j])\n",
    "    elif(x==6):\n",
    "        sun.append(daily_traffic[j])\n",
    "\n",
    "\n",
    "\n",
    "\n",
    "    \n",
    "    \n",
    "print()        \n",
    "print(daily_traffic)\n",
    "print(mon)\n",
    "print(tue)\n",
    "print(wed)\n",
    "print(thu)\n",
    "print(fri)\n",
    "print(sat)\n",
    "print(sun)"
   ]
  },
  {
   "cell_type": "code",
   "execution_count": 14,
   "metadata": {
    "scrolled": false
   },
   "outputs": [
    {
     "name": "stdout",
     "output_type": "stream",
     "text": [
      "\n",
      "[1393, 1745, 1532, 1425, 826, 466, 1107, 1733, 2070, 1961, 1863, 1178, 648, 1615, 1795, 1782, 1160, 1461, 981, 712, 1824, 2190, 2270, 2086, 1314, 899, 895, 1907, 2097, 1992]\n",
      "\n",
      "[1483, 1867, 1627, 1512, 770, 425, 898, 1932, 2243, 2069, 1898, 1013, 679, 1669, 1862, 1949, 1293, 1539, 853, 591, 1981, 2361, 2292, 2235, 1370, 869, 676, 1955, 2239, 2063]\n",
      "\n",
      "Average of all crossings for east = 1540.4333333333334\n",
      "Average of all crossings for west = 1497.5666666666666\n",
      "\n",
      "Min of all crossings for east = 1867\n",
      "Max of all crossings for east = 2063\n",
      "\n",
      "Min of all crossings for west = 1745\n",
      "Max of all crossings for west = 1992\n",
      "\n",
      "average west for mon = 1975.4\n",
      "average west for teu = 2082.8\n",
      "average west for wen = 1806\n",
      "average west for thu = 1579.75\n",
      "average west for fri = 876.25\n",
      "average west for sat = 592.75\n",
      "average west for sun = 1625.75\n"
     ]
    }
   ],
   "source": [
    "import csv\n",
    "import math\n",
    "import statistics\n",
    "\n",
    "#File Reading\n",
    "#open the file for reading\n",
    "# The trickiest part here is getting the right location for the file\n",
    "# file name is *relative* to the Anaconda folder system\n",
    "# this means the FreBridge.csv is in a folder called FremontBridge\n",
    "# in the Anaconda file system\n",
    "# you can organize your data files however you wish, just make sure this\n",
    "# string matches your folder and file organization\n",
    "data_file = open(\"FreBridge1.csv\", \"r\");\n",
    "#create an empty list to store the data\n",
    "bridge_data = [];\n",
    "#put all lines from the file into a list\n",
    "for ii in data_file:\n",
    "    bridge_data.append(ii);\n",
    "    \n",
    "#close the file. It's the courteous and clean thing to do\n",
    "data_file.close();\n",
    "\n",
    "\n",
    "\n",
    "#Data Processing - Clean up and split the data into two lists, east and east\n",
    "#This allows for further statistical analysis on cleaned up lists\n",
    "#this is traceys code\n",
    "\n",
    "#remove the first element (column header)\n",
    "del bridge_data[0];\n",
    "#create empty lists for westbound and eastbound bikes\n",
    "west = [];\n",
    "east = [];    \n",
    "for jj in range(len(bridge_data)):\n",
    "    #make into a list of lists of just numbers\n",
    "    bridge_data[jj] = bridge_data[jj].split(\",\");\n",
    "    #add data to specific lists for west and east\n",
    "    west.append(int(bridge_data[jj][1]));\n",
    "    east.append(int(bridge_data[jj][2]));\n",
    "print()\n",
    "print(west);\n",
    "print()\n",
    "print(east)\n",
    "print()\n",
    "\n",
    "    \n",
    "\n",
    "    \n",
    "print(\"Average of all crossings for east =\", statistics.mean(east))\n",
    "print(\"Average of all crossings for west =\", statistics.mean(west))\n",
    "print()\n",
    "\n",
    "print(\"Min of all crossings for east =\", east[1])\n",
    "print(\"Max of all crossings for east =\", east[len(east)-1])\n",
    "print()\n",
    "print(\"Min of all crossings for west =\", west[1])\n",
    "print(\"Max of all crossings for west =\", west[len(west)-1])\n",
    "print()\n",
    "\n",
    "\n",
    "\n",
    "#create and fill 2d list for days of week east and west\n",
    "eDays = [[],[],[],[],[],[],[]];\n",
    "for j in range(len(east)):\n",
    "    eDays[j%7].append(east[j])\n",
    "    \n",
    "wDays = [[],[],[],[],[],[],[]];\n",
    "for j in range(len(west)):\n",
    "    wDays[j%7].append(west[j])\n",
    "    \n",
    "#printing averages for days east and west\n",
    "dayOfWeek = [\"mon\",\"teu\",\"wen\",\"thu\",\"fri\",\"sat\",\"sun\"]\n",
    "for i in range(len(eDays)):\n",
    "    print(\"average west for\", dayOfWeek[i], \"=\", statistics.mean(eDays[i]))\n",
    "    \n"
   ]
  },
  {
   "cell_type": "markdown",
   "metadata": {
    "collapsed": true
   },
   "source": [
    "## Dead Code\n"
   ]
  },
  {
   "cell_type": "code",
   "execution_count": null,
   "metadata": {
    "collapsed": true
   },
   "outputs": [],
   "source": [
    "\n",
    "eMon = [];\n",
    "eTue = [];\n",
    "eWed = [];\n",
    "eThu = [];\n",
    "eFri = [];\n",
    "eSat = [];\n",
    "eSun = [];\n",
    "myList=east\n",
    "eDays = [[],[],[],[],[],[],[]];\n",
    "for j in range(len(east)):\n",
    "    x=(j%7)\n",
    "    eDays[x].append(myList[j])\n",
    "    \n",
    "    if(x==0):\n",
    "        eMon.append(myList[j])\n",
    "    elif(x==1):\n",
    "        eTue.append(myList[j])\n",
    "    elif(x==2):\n",
    "        eWed.append(myList[j])\n",
    "    elif(x==3):\n",
    "        eThu.append(myList[j])\n",
    "    elif(x==4):\n",
    "        eFri.append(myList[j])\n",
    "    elif(x==5):\n",
    "        eSat.append(myList[j])\n",
    "    elif(x==6):\n",
    "        eSun.append(myList[j])\n",
    "\n",
    "wMon = [];\n",
    "wTue = [];\n",
    "wWed = [];\n",
    "wThu = [];\n",
    "wFri = [];\n",
    "wSat = [];\n",
    "wSun = [];\n",
    "myList=west\n",
    "for j in range(len(east)):\n",
    "    x=(j%7)\n",
    "    \n",
    "    if(x==0):\n",
    "        wMon.append(myList[j])\n",
    "    elif(x==1):\n",
    "        wTue.append(myList[j])\n",
    "    elif(x==2):\n",
    "        wWed.append(myList[j])\n",
    "    elif(x==3):\n",
    "        wThu.append(myList[j])\n",
    "    elif(x==4):\n",
    "        wFri.append(myList[j])\n",
    "    elif(x==5):\n",
    "        wSat.append(myList[j])\n",
    "    elif(x==6):\n",
    "        wSun.append(myList[j])\n",
    "\n"
   ]
  }
 ],
 "metadata": {
  "kernelspec": {
   "display_name": "Python 3",
   "language": "python",
   "name": "python3"
  },
  "language_info": {
   "codemirror_mode": {
    "name": "ipython",
    "version": 3
   },
   "file_extension": ".py",
   "mimetype": "text/x-python",
   "name": "python",
   "nbconvert_exporter": "python",
   "pygments_lexer": "ipython3",
   "version": "3.6.1"
  }
 },
 "nbformat": 4,
 "nbformat_minor": 2
}
